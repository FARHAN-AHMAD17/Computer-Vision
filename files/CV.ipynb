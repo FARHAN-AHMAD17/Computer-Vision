{
 "cells": [
  {
   "cell_type": "code",
   "execution_count": 32,
   "id": "3d36432c-920f-4ac9-a13b-cd47833f3c5b",
   "metadata": {},
   "outputs": [],
   "source": [
    "import cv2\n",
    "def load_and_show_image(image_path):\n",
    "    image = cv2.imread(image_path)\n",
    "    if image is not None:\n",
    "        cv2.imshow('Loaded Image', image)\n",
    "        cv2.waitKey(0)\n",
    "        cv2.destroyAllWindows()\n",
    "    else:\n",
    "        print(f\"Error: Could not load image at {image_path}\")\n",
    "load_and_show_image('AI.jpeg')\n",
    "load_and_show_image('AI 2.jpeg')"
   ]
  },
  {
   "cell_type": "code",
   "execution_count": null,
   "id": "3c11b999-c13b-4812-bcfd-b663cd40c8d8",
   "metadata": {},
   "outputs": [],
   "source": []
  }
 ],
 "metadata": {
  "kernelspec": {
   "display_name": "Python 3 (ipykernel)",
   "language": "python",
   "name": "python3"
  },
  "language_info": {
   "codemirror_mode": {
    "name": "ipython",
    "version": 3
   },
   "file_extension": ".py",
   "mimetype": "text/x-python",
   "name": "python",
   "nbconvert_exporter": "python",
   "pygments_lexer": "ipython3",
   "version": "3.12.4"
  }
 },
 "nbformat": 4,
 "nbformat_minor": 5
}
